{
  "nbformat": 4,
  "nbformat_minor": 0,
  "metadata": {
    "colab": {
      "provenance": [],
      "toc_visible": true,
      "authorship_tag": "ABX9TyMdXZdKFAcwxT93vRDQwTzN",
      "include_colab_link": true
    },
    "kernelspec": {
      "name": "python3",
      "display_name": "Python 3"
    },
    "language_info": {
      "name": "python"
    }
  },
  "cells": [
    {
      "cell_type": "markdown",
      "metadata": {
        "id": "view-in-github",
        "colab_type": "text"
      },
      "source": [
        "<a href=\"https://colab.research.google.com/github/kavya22115/Predictive_Analytics/blob/House_Price_Prediction/Houseprice_predictipon.ipynb\" target=\"_parent\"><img src=\"https://colab.research.google.com/assets/colab-badge.svg\" alt=\"Open In Colab\"/></a>"
      ]
    },
    {
      "cell_type": "code",
      "source": [
        "import pandas as pd\n",
        "from sklearn.model_selection import train_test_split\n",
        "from sklearn.pipeline import Pipeline\n",
        "from sklearn.compose import ColumnTransformer\n",
        "from sklearn.preprocessing import StandardScaler, OneHotEncoder\n",
        "from sklearn.impute import SimpleImputer\n",
        "from sklearn.ensemble import RandomForestRegressor, GradientBoostingRegressor\n",
        "from sklearn.metrics import mean_squared_error, mean_absolute_error, r2_score\n",
        "df = pd.read_csv('AmesHousing.csv')\n",
        "df = df.drop(columns=['Order', 'PID'])\n",
        "X = df.drop(columns=['SalePrice'])\n",
        "y = df['SalePrice']\n",
        "X_train, X_test, y_train, y_test = train_test_split(X, y, test_size=0.2, random_state=42)\n",
        "X_train = X_train.copy()\n",
        "X_test = X_test.copy()\n",
        "X_train['TotalArea'] = X_train['Gr Liv Area'] + X_train['TotRms AbvGrd']\n",
        "X_test['TotalArea'] = X_test['Gr Liv Area'] + X_test['TotRms AbvGrd']\n",
        "numeric_features = X_train.select_dtypes(include=['int64', 'float64']).columns\n",
        "categorical_features = X_train.select_dtypes(include=['object']).columns\n",
        "numeric_transformer = Pipeline(steps=[\n",
        "    ('imputer', SimpleImputer(strategy='median')),\n",
        "    ('scaler', StandardScaler())\n",
        "])\n",
        "categorical_transformer = Pipeline(steps=[\n",
        "    ('imputer', SimpleImputer(strategy='most_frequent')),\n",
        "    ('encoder', OneHotEncoder(handle_unknown='ignore'))\n",
        "])\n",
        "preprocessor = ColumnTransformer(transformers=[\n",
        "    ('num', numeric_transformer, numeric_features),\n",
        "    ('cat', categorical_transformer, categorical_features)\n",
        "])\n",
        "rf_pipeline = Pipeline(steps=[\n",
        "    ('preprocessor', preprocessor),\n",
        "    ('model', RandomForestRegressor(n_estimators=100, random_state=42))\n",
        "])\n",
        "rf_pipeline.fit(X_train, y_train)\n",
        "y_pred_rf = rf_pipeline.predict(X_test)\n",
        "print(\"\\n🔸 Random Forest Regressor Results:\")\n",
        "print(f\"Mean Squared Error: {mean_squared_error(y_test, y_pred_rf):.2f}\")\n",
        "print(f\"Mean Absolute Error: {mean_absolute_error(y_test, y_pred_rf):.2f}\")\n",
        "print(f\"R² Score: {r2_score(y_test, y_pred_rf):.2f}\")\n",
        "gbm_pipeline = Pipeline(steps=[\n",
        "    ('preprocessor', preprocessor),\n",
        "    ('model', GradientBoostingRegressor(n_estimators=100, random_state=42))\n",
        "])\n",
        "gbm_pipeline.fit(X_train, y_train)\n",
        "y_pred_gbm = gbm_pipeline.predict(X_test)\n",
        "print(\"\\n🔸 Gradient Boosting Regressor Results:\")\n",
        "print(f\"Mean Squared Error: {mean_squared_error(y_test, y_pred_gbm):.2f}\")\n",
        "print(f\"Mean Absolute Error: {mean_absolute_error(y_test, y_pred_gbm):.2f}\")\n",
        "print(f\"R² Score: {r2_score(y_test, y_pred_gbm):.2f}\")\n"
      ],
      "metadata": {
        "colab": {
          "base_uri": "https://localhost:8080/"
        },
        "id": "E-XICAT1Hwip",
        "outputId": "b71e3c24-2a0b-4ba1-c6e2-7001827c18b6"
      },
      "execution_count": 9,
      "outputs": [
        {
          "output_type": "stream",
          "name": "stdout",
          "text": [
            "\n",
            "🔸 Random Forest Regressor Results:\n",
            "Mean Squared Error: 700680476.07\n",
            "Mean Absolute Error: 15702.17\n",
            "R² Score: 0.91\n",
            "\n",
            "🔸 Gradient Boosting Regressor Results:\n",
            "Mean Squared Error: 711002854.90\n",
            "Mean Absolute Error: 15226.93\n",
            "R² Score: 0.91\n"
          ]
        }
      ]
    }
  ]
}